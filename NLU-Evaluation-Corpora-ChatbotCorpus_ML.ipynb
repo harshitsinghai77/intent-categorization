{
 "cells": [
  {
   "cell_type": "code",
   "execution_count": 1,
   "metadata": {},
   "outputs": [
    {
     "name": "stderr",
     "output_type": "stream",
     "text": [
      "Using TensorFlow backend.\n"
     ]
    }
   ],
   "source": [
    "import csv\n",
    "import json\n",
    "import pandas as pd \n",
    "import numpy as np\n",
    "import string\n",
    "import unidecode\n",
    "import random\n",
    "from sklearn.utils import shuffle\n",
    "from nltk.corpus import stopwords\n",
    "from nltk import word_tokenize\n",
    "import matplotlib.pyplot as plt\n",
    "import spacy\n",
    "import re\n",
    "from sklearn.model_selection import train_test_split\n",
    "from sklearn.feature_extraction.text import TfidfVectorizer, CountVectorizer\n",
    "from sklearn.naive_bayes import MultinomialNB\n",
    "from sklearn import model_selection, preprocessing, naive_bayes, svm\n",
    "from sklearn.linear_model import LogisticRegression, SGDClassifier\n",
    "from sklearn.ensemble import ExtraTreesClassifier\n",
    "from sklearn.metrics import accuracy_score, precision_score, recall_score, f1_score, average_precision_score, confusion_matrix\n",
    "from sklearn import decomposition, ensemble\n",
    "import xgboost\n",
    "from sklearn.pipeline import Pipeline\n",
    "from nltk.stem import LancasterStemmer, PorterStemmer\n",
    "\n",
    "from sklearn.neighbors import KNeighborsClassifier\n",
    "import seaborn as sns\n",
    "from nltk.corpus import wordnet\n",
    "import nltk\n",
    "from collections import OrderedDict\n",
    "from sklearn.model_selection import cross_validate, KFold, cross_val_predict\n",
    "from keras.preprocessing import text, sequence\n",
    "import numpy as np\n",
    "\n",
    "import warnings\n",
    "warnings.filterwarnings('ignore')"
   ]
  },
  {
   "cell_type": "code",
   "execution_count": 2,
   "metadata": {},
   "outputs": [
    {
     "name": "stderr",
     "output_type": "stream",
     "text": [
      "[nltk_data] Downloading package wordnet to\n",
      "[nltk_data]     C:\\Users\\shadow\\AppData\\Roaming\\nltk_data...\n",
      "[nltk_data]   Package wordnet is already up-to-date!\n"
     ]
    }
   ],
   "source": [
    "nltk.download('wordnet')\n",
    "stop_words = set(stopwords.words('english'))\n",
    "stoplist = stopwords.words('english')"
   ]
  },
  {
   "cell_type": "code",
   "execution_count": 3,
   "metadata": {},
   "outputs": [],
   "source": [
    "with open(\"ChatbotCorpus.json\", 'r', encoding='utf-8') as f:\n",
    "    dataset = json.load(f)\n",
    "    data = [[sample[\"text\"], sample[\"intent\"]] for sample in dataset[\"sentences\"]]"
   ]
  },
  {
   "cell_type": "code",
   "execution_count": 4,
   "metadata": {},
   "outputs": [],
   "source": [
    "def make_csv(filename, data):\n",
    "    sentence = []\n",
    "    intent = []\n",
    "    for i in data:\n",
    "        sentence.append(i[0])\n",
    "        intent.append(i[1])\n",
    "\n",
    "    data = {'sentence':sentence, 'intent':intent} \n",
    "    df = pd.DataFrame(data) \n",
    "    df.to_csv(filename, index=False)"
   ]
  },
  {
   "cell_type": "code",
   "execution_count": 5,
   "metadata": {},
   "outputs": [],
   "source": [
    "make_csv('ChatbotCorpus.csv', data)"
   ]
  },
  {
   "cell_type": "code",
   "execution_count": 6,
   "metadata": {},
   "outputs": [],
   "source": [
    "df = pd.read_csv('ChatbotCorpus.csv')"
   ]
  },
  {
   "cell_type": "code",
   "execution_count": 7,
   "metadata": {},
   "outputs": [
    {
     "data": {
      "text/plain": [
       "'can you find a connection from quiddestraße to garching forschungszentrum?'"
      ]
     },
     "execution_count": 7,
     "metadata": {},
     "output_type": "execute_result"
    }
   ],
   "source": [
    "df.head(20)\n",
    "df['sentence'][20]"
   ]
  },
  {
   "cell_type": "code",
   "execution_count": 8,
   "metadata": {},
   "outputs": [
    {
     "data": {
      "text/plain": [
       "FindConnection    128\n",
       "DepartureTime      78\n",
       "Name: intent, dtype: int64"
      ]
     },
     "execution_count": 8,
     "metadata": {},
     "output_type": "execute_result"
    }
   ],
   "source": [
    "df['intent'].value_counts() "
   ]
  },
  {
   "cell_type": "code",
   "execution_count": 9,
   "metadata": {},
   "outputs": [
    {
     "data": {
      "text/plain": [
       "<matplotlib.axes._subplots.AxesSubplot at 0x1c259c53588>"
      ]
     },
     "execution_count": 9,
     "metadata": {},
     "output_type": "execute_result"
    },
    {
     "data": {
      "image/png": "[encoded data removed]",
      "text/plain": [
       "<Figure size 432x288 with 1 Axes>"
      ]
     },
     "metadata": {},
     "output_type": "display_data"
    }
   ],
   "source": [
    "df['intent'].value_counts().plot(kind='pie')"
   ]
  },
  {
   "cell_type": "code",
   "execution_count": 10,
   "metadata": {},
   "outputs": [
    {
     "data": {
      "image/png": "[encoded data removed]",
      "text/plain": [
       "<Figure size 720x576 with 1 Axes>"
      ]
     },
     "metadata": {
      "needs_background": "light"
     },
     "output_type": "display_data"
    }
   ],
   "source": [
    "plt.figure(figsize = (10, 8))\n",
    "sns.countplot(df['intent'])\n",
    "plt.show()"
   ]
  },
  {
   "cell_type": "code",
   "execution_count": 11,
   "metadata": {},
   "outputs": [],
   "source": [
    "lancaster=LancasterStemmer()\n",
    "\n",
    "def cleaning(text):\n",
    "    \n",
    "    processed_text = re.sub(r'[^ a-z A-Z 0-9]', \" \", unidecode.unidecode(text)).lower()\n",
    "\n",
    "#Removing Stop words was not used as it's not appliciable in this problem statment\n",
    "#     filtered_sentence = [w for w in tokens if not w in stop_words] \n",
    "#     filtered_sentence = [] \n",
    "  \n",
    "#     for w in tokens: \n",
    "#         if w not in stop_words: \n",
    "#             filtered_sentence.append(w) \n",
    "    \n",
    "#     print(tokens) \n",
    "#     print(filtered_sentence)\n",
    "  \n",
    "#Stemming the words Departs --> Depart\n",
    "    token_words=word_tokenize(processed_text)\n",
    "    stem_sentence=[]\n",
    "    for word in token_words:\n",
    "        stem_sentence.append(lancaster.stem(word))\n",
    "        stem_sentence.append(\" \")\n",
    "    \n",
    "    #print(processed_text)\n",
    "    #print(\"\".join(stem_sentence))\n",
    "\n",
    "    \n",
    "    return \"\".join(stem_sentence)\n"
   ]
  },
  {
   "cell_type": "code",
   "execution_count": 12,
   "metadata": {
    "scrolled": false
   },
   "outputs": [
    {
     "data": {
      "text/plain": [
       "'can you find a connect from quiddestrass to garch forschungszentr '"
      ]
     },
     "execution_count": 12,
     "metadata": {},
     "output_type": "execute_result"
    }
   ],
   "source": [
    "df[\"sentence\"] = df[\"sentence\"].apply(cleaning)\n",
    "df['sentence'][20]"
   ]
  },
  {
   "cell_type": "code",
   "execution_count": 13,
   "metadata": {},
   "outputs": [],
   "source": [
    "model_name = ['Naive Bayes', 'Logistic Regression', 'SGDClassifier','K-Nearest Neighbors', 'SVM', 'Random Forest Model', 'Xtereme Gradient Boosting Model', 'MultinomialNB','Extra Tress Classifier']\n",
    "test_accuracy = []\n",
    "precision = []\n",
    "recall = []\n",
    "f1_micro = []\n",
    "auc = []"
   ]
  },
  {
   "cell_type": "code",
   "execution_count": 14,
   "metadata": {},
   "outputs": [],
   "source": [
    "def append_to_dataframe(scores):\n",
    "    test_accuracy.append(scores['test_accuracy'].mean())\n",
    "    precision.append(scores['test_precision_macro'].mean())\n",
    "    recall.append(scores['test_recall_macro'].mean())\n",
    "    f1_micro.append(scores['test_f1_micro'].mean())\n",
    "    auc.append(scores['test_roc_auc'].mean())\n",
    "\n",
    "\n",
    "def train_model_feature_extraction(classifier, x,y):\n",
    "    \n",
    "    pipeline = Pipeline([\n",
    "        ('tfidf', TfidfVectorizer(analyzer='word')),\n",
    "        ('clf', classifier)\n",
    "    ])\n",
    "    \n",
    "    scoring = ['accuracy', 'precision_macro', 'recall_macro', 'f1_micro', 'roc_auc']\n",
    "    scores = cross_validate(pipeline, x, y, scoring=scoring, cv=10)\n",
    "    append_to_dataframe(scores)\n",
    "    \n",
    "    return scores['test_accuracy'].mean()\n",
    "\n",
    "def train_model(classifier, feature_vector_train, label, feature_vector_test):\n",
    "    \n",
    "    scoring = ['accuracy', 'precision_macro', 'recall_macro', 'f1_micro','roc_auc']\n",
    "    \n",
    "    scores = cross_validate(classifier,feature_vector_train, label, scoring=scoring, cv=10)\n",
    "    append_to_dataframe(scores)\n",
    "    \n",
    "    \n",
    "#     classifier.fit(feature_vector_train, label)\n",
    "    \n",
    "#     predictions = classifier.predict(feature_vector_test)\n",
    "#     test_accuracy.append(accuracy_score(y_test, predictions))\n",
    "#     precision.append(precision_score(y_test, predictions, average='micro'))\n",
    "#     recall.append(recall_score(y_test, predictions, average='micro'))\n",
    "#     f1_micro.append(f1_score(y_test, predictions, average='micro'))\n",
    "\n",
    "    return scores['test_accuracy'].mean()"
   ]
  },
  {
   "cell_type": "markdown",
   "metadata": {},
   "source": [
    "# Feature engineering using TF-IDF Vectors as features"
   ]
  },
  {
   "cell_type": "code",
   "execution_count": 15,
   "metadata": {},
   "outputs": [],
   "source": [
    "#X_train, X_test, y_train, y_test = train_test_split(df['sentence'].values, df['intent'].values, test_size=0.3, random_state=42)"
   ]
  },
  {
   "cell_type": "code",
   "execution_count": 16,
   "metadata": {},
   "outputs": [],
   "source": [
    "# tfidf_vect = TfidfVectorizer(analyzer='word')\n",
    "# tfidf_vect.fit(df['sentence'])\n",
    "\n",
    "# xtrain_tfidf =  tfidf_vect.transform(X_train)\n",
    "# xtest_tfidf =  tfidf_vect.transform(X_test)\n",
    "\n",
    "X_tdidf = df['sentence'].values\n",
    "y_tdidf = df['intent'].values"
   ]
  },
  {
   "cell_type": "code",
   "execution_count": 17,
   "metadata": {},
   "outputs": [],
   "source": [
    "vectorizer = TfidfVectorizer()\n",
    "analyze = vectorizer.build_analyzer()\n",
    "\n",
    "temp = vectorizer.fit_transform(df['sentence'].values)\n",
    "\n",
    "#print('Document 1',analyze(df['sentence'].values[0]))\n",
    "#print('Document transform', (temp.toarray()[0]))\n",
    "\n",
    "#The output signifies the important words which add context to all the sentences. These are the words that are important in the document\n",
    "#print(vectorizer.get_feature_names())"
   ]
  },
  {
   "cell_type": "markdown",
   "metadata": {},
   "source": [
    "## Machine Learning Models"
   ]
  },
  {
   "cell_type": "markdown",
   "metadata": {},
   "source": [
    "### Naive Bayes"
   ]
  },
  {
   "cell_type": "code",
   "execution_count": 18,
   "metadata": {},
   "outputs": [
    {
     "name": "stdout",
     "output_type": "stream",
     "text": [
      "Naive Bayes:  0.9408521303258146\n"
     ]
    }
   ],
   "source": [
    "accuracy = train_model_feature_extraction(naive_bayes.MultinomialNB(), X_tdidf, y_tdidf)\n",
    "print(\"Naive Bayes: \", accuracy)"
   ]
  },
  {
   "cell_type": "markdown",
   "metadata": {},
   "source": [
    "### Logistic Regression"
   ]
  },
  {
   "cell_type": "code",
   "execution_count": 19,
   "metadata": {},
   "outputs": [
    {
     "name": "stdout",
     "output_type": "stream",
     "text": [
      "Logistic Regression:  0.9751879699248122\n"
     ]
    }
   ],
   "source": [
    "accuracy = train_model_feature_extraction(LogisticRegression(), X_tdidf, y_tdidf)\n",
    "print(\"Logistic Regression: \", accuracy)"
   ]
  },
  {
   "cell_type": "markdown",
   "metadata": {},
   "source": [
    "### SGDClassifier"
   ]
  },
  {
   "cell_type": "code",
   "execution_count": 20,
   "metadata": {},
   "outputs": [
    {
     "name": "stdout",
     "output_type": "stream",
     "text": [
      "SGDClassifier:  0.9704260651629072\n"
     ]
    }
   ],
   "source": [
    "accuracy = train_model_feature_extraction(SGDClassifier(alpha=.0001, max_iter=50, penalty=\"l1\"), X_tdidf, y_tdidf)\n",
    "print(\"SGDClassifier: \", accuracy)"
   ]
  },
  {
   "cell_type": "markdown",
   "metadata": {},
   "source": [
    "### K-Nearest Neighbors"
   ]
  },
  {
   "cell_type": "code",
   "execution_count": 21,
   "metadata": {},
   "outputs": [
    {
     "name": "stdout",
     "output_type": "stream",
     "text": [
      "KNN:  0.9609022556390977\n"
     ]
    }
   ],
   "source": [
    "accuracy = train_model_feature_extraction(KNeighborsClassifier(n_neighbors=5), X_tdidf, y_tdidf)\n",
    "print(\"KNN: \", accuracy)"
   ]
  },
  {
   "cell_type": "markdown",
   "metadata": {},
   "source": [
    "### SVM"
   ]
  },
  {
   "cell_type": "code",
   "execution_count": 22,
   "metadata": {},
   "outputs": [
    {
     "name": "stdout",
     "output_type": "stream",
     "text": [
      "SVM, Vectors:  0.9656641604010024\n"
     ]
    }
   ],
   "source": [
    "accuracy = train_model_feature_extraction(svm.SVC(kernel='linear'),X_tdidf, y_tdidf)\n",
    "print(\"SVM, Vectors: \", accuracy)"
   ]
  },
  {
   "cell_type": "markdown",
   "metadata": {},
   "source": [
    "### Random Forest Model"
   ]
  },
  {
   "cell_type": "code",
   "execution_count": 23,
   "metadata": {},
   "outputs": [
    {
     "name": "stdout",
     "output_type": "stream",
     "text": [
      "Random Forest:  0.9323308270676692\n"
     ]
    }
   ],
   "source": [
    "accuracy = train_model_feature_extraction(ensemble.RandomForestClassifier(), X_tdidf, y_tdidf)\n",
    "print(\"Random Forest: \", accuracy)"
   ]
  },
  {
   "cell_type": "markdown",
   "metadata": {},
   "source": [
    "### Xtereme Gradient Boosting Model"
   ]
  },
  {
   "cell_type": "code",
   "execution_count": 24,
   "metadata": {},
   "outputs": [
    {
     "name": "stdout",
     "output_type": "stream",
     "text": [
      "Xtereme Gradient Boosting Model:  0.9418546365914787\n"
     ]
    }
   ],
   "source": [
    "accuracy = train_model_feature_extraction(xgboost.XGBClassifier(), X_tdidf, y_tdidf)\n",
    "print(\"Xtereme Gradient Boosting Model: \", accuracy)"
   ]
  },
  {
   "cell_type": "markdown",
   "metadata": {},
   "source": [
    "### MultinomialNB"
   ]
  },
  {
   "cell_type": "code",
   "execution_count": 25,
   "metadata": {},
   "outputs": [
    {
     "name": "stdout",
     "output_type": "stream",
     "text": [
      "MultinomialNB:  0.9313283208020049\n"
     ]
    }
   ],
   "source": [
    "accuracy = train_model_feature_extraction(MultinomialNB(alpha=.01), X_tdidf, y_tdidf)\n",
    "print(\"MultinomialNB: \", accuracy)"
   ]
  },
  {
   "cell_type": "markdown",
   "metadata": {},
   "source": [
    "### Extra Tress Classifier "
   ]
  },
  {
   "cell_type": "code",
   "execution_count": 26,
   "metadata": {},
   "outputs": [
    {
     "name": "stdout",
     "output_type": "stream",
     "text": [
      "Extra Tress Classifier:  0.9609022556390977\n"
     ]
    }
   ],
   "source": [
    "accuracy = train_model_feature_extraction(ExtraTreesClassifier(n_estimators=200), X_tdidf, y_tdidf)\n",
    "print(\"Extra Tress Classifier: \", accuracy)"
   ]
  },
  {
   "cell_type": "code",
   "execution_count": 27,
   "metadata": {},
   "outputs": [
    {
     "data": {
      "text/html": [
       "<div>\n",
       "<style scoped>\n",
       "    .dataframe tbody tr th:only-of-type {\n",
       "        vertical-align: middle;\n",
       "    }\n",
       "\n",
       "    .dataframe tbody tr th {\n",
       "        vertical-align: top;\n",
       "    }\n",
       "\n",
       "    .dataframe thead th {\n",
       "        text-align: right;\n",
       "    }\n",
       "</style>\n",
       "<table border=\"1\" class=\"dataframe\">\n",
       "  <thead>\n",
       "    <tr style=\"text-align: right;\">\n",
       "      <th></th>\n",
       "      <th>Model</th>\n",
       "      <th>Accuracy</th>\n",
       "      <th>Precision</th>\n",
       "      <th>Recall</th>\n",
       "      <th>Micro-averaged F1 score</th>\n",
       "      <th>ROC AUC</th>\n",
       "    </tr>\n",
       "  </thead>\n",
       "  <tbody>\n",
       "    <tr>\n",
       "      <th>1</th>\n",
       "      <td>Logistic Regression</td>\n",
       "      <td>0.975188</td>\n",
       "      <td>0.976190</td>\n",
       "      <td>0.975321</td>\n",
       "      <td>0.975188</td>\n",
       "      <td>0.994277</td>\n",
       "    </tr>\n",
       "    <tr>\n",
       "      <th>2</th>\n",
       "      <td>SGDClassifier</td>\n",
       "      <td>0.970426</td>\n",
       "      <td>0.972619</td>\n",
       "      <td>0.969071</td>\n",
       "      <td>0.970426</td>\n",
       "      <td>1.000000</td>\n",
       "    </tr>\n",
       "    <tr>\n",
       "      <th>4</th>\n",
       "      <td>SVM</td>\n",
       "      <td>0.965664</td>\n",
       "      <td>0.966190</td>\n",
       "      <td>0.967628</td>\n",
       "      <td>0.965664</td>\n",
       "      <td>0.999038</td>\n",
       "    </tr>\n",
       "    <tr>\n",
       "      <th>3</th>\n",
       "      <td>K-Nearest Neighbors</td>\n",
       "      <td>0.960902</td>\n",
       "      <td>0.956667</td>\n",
       "      <td>0.968590</td>\n",
       "      <td>0.960902</td>\n",
       "      <td>0.989240</td>\n",
       "    </tr>\n",
       "    <tr>\n",
       "      <th>8</th>\n",
       "      <td>Extra Tress Classifier</td>\n",
       "      <td>0.960902</td>\n",
       "      <td>0.961984</td>\n",
       "      <td>0.961378</td>\n",
       "      <td>0.960902</td>\n",
       "      <td>0.998077</td>\n",
       "    </tr>\n",
       "    <tr>\n",
       "      <th>6</th>\n",
       "      <td>Xtereme Gradient Boosting Model</td>\n",
       "      <td>0.941855</td>\n",
       "      <td>0.953616</td>\n",
       "      <td>0.941186</td>\n",
       "      <td>0.941855</td>\n",
       "      <td>0.996154</td>\n",
       "    </tr>\n",
       "    <tr>\n",
       "      <th>0</th>\n",
       "      <td>Naive Bayes</td>\n",
       "      <td>0.940852</td>\n",
       "      <td>0.941984</td>\n",
       "      <td>0.950160</td>\n",
       "      <td>0.940852</td>\n",
       "      <td>0.997619</td>\n",
       "    </tr>\n",
       "    <tr>\n",
       "      <th>5</th>\n",
       "      <td>Random Forest Model</td>\n",
       "      <td>0.932331</td>\n",
       "      <td>0.930871</td>\n",
       "      <td>0.938301</td>\n",
       "      <td>0.932331</td>\n",
       "      <td>0.987569</td>\n",
       "    </tr>\n",
       "    <tr>\n",
       "      <th>7</th>\n",
       "      <td>MultinomialNB</td>\n",
       "      <td>0.931328</td>\n",
       "      <td>0.938786</td>\n",
       "      <td>0.935256</td>\n",
       "      <td>0.931328</td>\n",
       "      <td>0.992811</td>\n",
       "    </tr>\n",
       "  </tbody>\n",
       "</table>\n",
       "</div>"
      ],
      "text/plain": [
       "                             Model  Accuracy  Precision    Recall  \\\n",
       "1              Logistic Regression  0.975188   0.976190  0.975321   \n",
       "2                    SGDClassifier  0.970426   0.972619  0.969071   \n",
       "4                              SVM  0.965664   0.966190  0.967628   \n",
       "3              K-Nearest Neighbors  0.960902   0.956667  0.968590   \n",
       "8           Extra Tress Classifier  0.960902   0.961984  0.961378   \n",
       "6  Xtereme Gradient Boosting Model  0.941855   0.953616  0.941186   \n",
       "0                      Naive Bayes  0.940852   0.941984  0.950160   \n",
       "5              Random Forest Model  0.932331   0.930871  0.938301   \n",
       "7                    MultinomialNB  0.931328   0.938786  0.935256   \n",
       "\n",
       "   Micro-averaged F1 score   ROC AUC  \n",
       "1                 0.975188  0.994277  \n",
       "2                 0.970426  1.000000  \n",
       "4                 0.965664  0.999038  \n",
       "3                 0.960902  0.989240  \n",
       "8                 0.960902  0.998077  \n",
       "6                 0.941855  0.996154  \n",
       "0                 0.940852  0.997619  \n",
       "5                 0.932331  0.987569  \n",
       "7                 0.931328  0.992811  "
      ]
     },
     "execution_count": 27,
     "metadata": {},
     "output_type": "execute_result"
    }
   ],
   "source": [
    "models_initial = pd.DataFrame({\n",
    "    'Model'       : model_name,\n",
    "    'Accuracy'    : test_accuracy,\n",
    "    'Precision'   : precision,\n",
    "    'Recall'      : recall,\n",
    "    'Micro-averaged F1 score' : f1_micro,\n",
    "    'ROC AUC'     : auc\n",
    "    }, columns = ['Model', 'Accuracy', 'Precision', 'Recall', 'Micro-averaged F1 score', 'ROC AUC'])\n",
    "\n",
    "models_initial.sort_values(by='Micro-averaged F1 score', ascending=False)"
   ]
  },
  {
   "cell_type": "markdown",
   "metadata": {},
   "source": [
    "# Training with pre-trained word vectors\n"
   ]
  },
  {
   "cell_type": "code",
   "execution_count": 28,
   "metadata": {},
   "outputs": [],
   "source": [
    "df = pd.read_csv('ChatbotCorpus.csv')\n",
    "sentence = np.array(df['sentence'].apply(cleaning))\n",
    "intent = np.array(df['intent'])"
   ]
  },
  {
   "cell_type": "code",
   "execution_count": 29,
   "metadata": {},
   "outputs": [
    {
     "data": {
      "text/plain": [
       "array(['i want to go marienplatz ',\n",
       "       'when is the next train in munch freiheit ',\n",
       "       'when doe the next u bahn leav from garch forschungszentr ',\n",
       "       'from olymp einkaufszentr to hauptbahnhof ',\n",
       "       'when is the next train from winterstrass 12 to kieferngart ',\n",
       "       'when is the next rocket from winterstrass 12 to kieferngart ',\n",
       "       'can you find a connect from garch to hauptbahnhof ',\n",
       "       'how to get from unt strassacker 21 to frottm ',\n",
       "       'how i can get from marienplatz to garch ',\n",
       "       'connect from boltzmannstrass to kieferngart '], dtype=object)"
      ]
     },
     "execution_count": 29,
     "metadata": {},
     "output_type": "execute_result"
    }
   ],
   "source": [
    "sentence[:10]"
   ]
  },
  {
   "cell_type": "code",
   "execution_count": 30,
   "metadata": {},
   "outputs": [],
   "source": [
    "nlp = spacy.load('en_core_web_lg')"
   ]
  },
  {
   "cell_type": "code",
   "execution_count": 31,
   "metadata": {},
   "outputs": [],
   "source": [
    "n_queries=len(sentence)\n",
    "dim_embedding = nlp.vocab.vectors_length\n",
    "X = np.zeros((n_queries, dim_embedding))"
   ]
  },
  {
   "cell_type": "code",
   "execution_count": 32,
   "metadata": {},
   "outputs": [
    {
     "name": "stdout",
     "output_type": "stream",
     "text": [
      "['i want to go marienplatz ' 'when is the next train in munch freiheit '\n",
      " 'when doe the next u bahn leav from garch forschungszentr '\n",
      " 'from olymp einkaufszentr to hauptbahnhof '\n",
      " 'when is the next train from winterstrass 12 to kieferngart '\n",
      " 'when is the next rocket from winterstrass 12 to kieferngart '\n",
      " 'can you find a connect from garch to hauptbahnhof '\n",
      " 'how to get from unt strassacker 21 to frottm '\n",
      " 'how i can get from marienplatz to garch '\n",
      " 'connect from boltzmannstrass to kieferngart '\n",
      " 'how to get from bon platz to freiman '\n",
      " 'when is the next s bahn leav at garch ' 'how do i get from oez to hbf '\n",
      " 'how to get from winterstrass 12 to frottm '\n",
      " 'how do i get from garch forschungszentr to pas '\n",
      " 'theresienstrass to assl '\n",
      " 'how can i get from theresienstrass to munich east '\n",
      " 'when doe the next bus start from garch ' 'from quiddestrass to garch '\n",
      " 'can you find a connect from kurt eisn strasse to garch forschungszentr '\n",
      " 'can you find a connect from quiddestrass to garch forschungszentr '\n",
      " 'when doe the next train leav at garch ' 'from hauptbahnhof to garch '\n",
      " 'how can i get to glockenbachviertel from garch forschungszentr '\n",
      " 'how i can get from garch to nordfriedhof '\n",
      " 'how can i get to glockenbachviertel from garch forschungszentr '\n",
      " 'when is the next train leav in garch forschungszentr '\n",
      " 'how can i get from moosach to quiddestrass '\n",
      " 'how can i get from moosach to poccistrass '\n",
      " 'how can i get from kurt eisn strasse to garch forschungszentr '\n",
      " 'how can i get from moosach to quiddestrass '\n",
      " 'how can i get from moosach to odeonsplatz '\n",
      " 'when doe the next bus start at garch '\n",
      " 'what s the shortest way from quiddestrass to odeonsplatz '\n",
      " 'when is the next bus from ostbahnhof '\n",
      " 'how i can get from garch to neuperlach sued '\n",
      " 'when is the next train in munchn freiheit '\n",
      " 'how i can get from marienplatz to garch '\n",
      " 'how do i get from poccistrass to laim '\n",
      " 'i want to go garch from marienplatz '\n",
      " 'how i can get from marienplatz to garch '\n",
      " 'how can i get from hauptbahnhof to odeonsplatz '\n",
      " 'prinzregentenplatz to rotkreuzplatz '\n",
      " 'i want to go to garch from marienplatz ' 'next train from garch '\n",
      " 'from prinzregentenplatz to rotkreuzplatz '\n",
      " 'when is the next subway from garch forschungszentr '\n",
      " 'from garch to klinik ' 'from garch foschungszentr to odeonsplatz '\n",
      " 'next bus in garch ' 'when doe the train leav in garch forschungszentr '\n",
      " 'next subway from garch forschungszentr '\n",
      " 'tel me the next bus from garch ' 'next bus from garch pleas '\n",
      " 'next bus from garch ' 'next bus from cent stat '\n",
      " 'from garch to marienplatz ' 'next bus from garch '\n",
      " 'connect from garch to hauptbahnhof '\n",
      " 'when doe the next bus depart from garch '\n",
      " 'find connect from hauptbahnhof to odeonsplatz '\n",
      " 'when doe the next u bahn depart at garch forschungszentr '\n",
      " 'when doe the next u bahn depart at garch '\n",
      " 'when doe the next subway depart at garch '\n",
      " 'when is the next train in garch '\n",
      " 'how to get from munchn freiheit to garch ' 'implerstrass to ostbahnhof '\n",
      " 'how can i get from hauptbahnhof to odeonsplatz '\n",
      " 'how can i go from garch forschungszentr to prinzregentenplatz '\n",
      " 'how can i get from mangfallplatz to garch '\n",
      " 'how can i get to hohenlindenerstrass ' 'hartha to hackerbruck '\n",
      " 'how can i get from feldmoch to garch forschungszentr '\n",
      " 'from marienplatz to petershaus '\n",
      " 'when is the train from garch to marienplatz ' 'neufahrn to garch '\n",
      " 'how can i get from mangfallplatz to garch '\n",
      " 'how can i get to hohenlindenerst '\n",
      " 'when is the next bus from garch forschungzentr '\n",
      " 'how do i get from spitzingplatz to poccistrass '\n",
      " 'how can i get from garch forschungszentr to marienplatz '\n",
      " 'how can i get from klink to marienplatz '\n",
      " 'how to get from alt heid to marienplatz '\n",
      " 'next train from muench freicheit ' 'depart in garch i assum '\n",
      " 'when doe the next u bahn depart at garch '\n",
      " 'the next bus from garch forschungzentr '\n",
      " 'when is the next train in alt heid ' 'or depart from garch '\n",
      " 'hello munich city bot how do i get from munchn freiheit to scheidplatz '\n",
      " 'how can i get from garch forschungszentr to prinzregentenplatz '\n",
      " 'how can i get from neufahrn to garch ' 'tak me to the airport '\n",
      " 'when doe the next u6 leav from garch forschungszentr '\n",
      " 'how i can get from munchn freiheit to nordfriedhof '\n",
      " 'from hartha to hackerbruck ' 'when is the train from garch '\n",
      " 'what is the next train from munchn freiheit '\n",
      " 'how can i get from theresienstrass to garch forschungszentr '\n",
      " 'how can i get from munchn freiheit to odeonsplatz '\n",
      " 'from garch to hauptbahnhof ' 'how can i get from garch to odeonsplatz '\n",
      " 'start neufahrn end garch ' 'how can i get from studentenstadt to garch '\n",
      " 'when is the next bus from garch '\n",
      " 'tak me from hauptbahnhof to odeonsplatz '\n",
      " 'what s the shortest connect between quiddestrass and odeonsplatz '\n",
      " 'what is the cheapest connect between quiddestrass and hauptbahnhof '\n",
      " 'what s the shortest way between hauptbahnhof and odeonsplatz '\n",
      " 'how can i get from garch to munchn freiheit as fast as poss '\n",
      " 'what s the cheapest way from neuperlach sud to lehel '\n",
      " 'how can i get from neuperlach zentr to karlsplatz as fast as poss '\n",
      " 'could you giv me the fastest connect between brudermuhlstrass and alt heid '\n",
      " 'is ther a train from neuperlach zentr to garch at 3 pm '\n",
      " 'can you find a connect from olympiazentr to lehel at 2 pm '\n",
      " 'i nee a connect from harra to karl pre platz at 8 am '\n",
      " 'in nee to be at hauptbahnhof at 1 pm can you search a connect from garch forschungszentr '\n",
      " 'i nee to be in garch at 9 '\n",
      " 'can i tak a bus from quiddestrass to hauptbahnhof '\n",
      " 'can you find the shortest way from moosfeld to milbertshof '\n",
      " 'how can i get to neuperlach sud from garch forschungszentr '\n",
      " 'can you find a bus from quiddestrass to lehel '\n",
      " 'is ther a tram from karlsplatz to lehel '\n",
      " 'is ther a bus from garch to moosach at around 5 '\n",
      " 'is ther a bus from odeonsplatz to hauptbahnhof at 3 pm '\n",
      " 'can you tel me the cheapest way from garch forschungszentr to quiddestrass '\n",
      " 'how can i get to quiddestrass '\n",
      " 'when doe the next bus leav from hauptbahnhof '\n",
      " 'how can i get from garch to hauptbahnhof '\n",
      " 'how can i get from kurt eisn strasse to garch '\n",
      " 'when the next train in garch forschungszentr is leav '\n",
      " 'what is the next connect from garch forschungszentr to odeonsplatz '\n",
      " 'how can i get from mossach to garch forschungszentr '\n",
      " 'how can i get from garch forschungszentr to odeonsplatz '\n",
      " 'how can i get from garch forschungszentr to odeonsplatz '\n",
      " 'how can i get from garch forschungszentr to kurt eisn strasse '\n",
      " 'how can i get to boltzmannstrass from quiddestrass '\n",
      " 'when doe the next train depart from quiddestrass '\n",
      " 'when the next train in garch forschungszentr is leav '\n",
      " 'when is the next u6 leav from garch '\n",
      " 'when doe the next train leav from garch forschungszentr '\n",
      " 'when is the next u6 ' 'when is the next subway leav from garch '\n",
      " 'when the next train in garch is leav '\n",
      " 'when is the next train leav in garch '\n",
      " 'when doe the next train leav from odeonsplatz '\n",
      " 'when doe the next train leav from quiddestrass '\n",
      " 'when is the next train '\n",
      " 'when doe the next bus leav at garch forschungszentr '\n",
      " 'when doe the next train leav ' 'when doe the next bus leav in garch '\n",
      " 'when doe the next s bahn leav from hauptbahnhof '\n",
      " 'when doe the next subway depart from odeonsplatz '\n",
      " 'show me the next bus from garch '\n",
      " 'when doe the next tram start from hauptbahnhof '\n",
      " 'when wil the next u bahn depart from garch forschungszentr '\n",
      " 'show me the next bus from michaelibad '\n",
      " 'when doe the next train start at sendl tor '\n",
      " 'hey bot when doe the next bus start at garch '\n",
      " 'when doe the next bus leav at garch '\n",
      " 'when is the bus from quiddestrass '\n",
      " 'when can i get a bus at mariahilfplatz '\n",
      " 'when doe the next bus leav at romanplatz '\n",
      " 'when doe the bus to roblingweg start ' 'next bus from quiddestrass '\n",
      " 'when is the next bus leav from garch '\n",
      " 'when is the train leav in garch ' 'when is the train leav in garch '\n",
      " 'how can i get from garch to odeonsplatz '\n",
      " 'when is adr next subway leav at garch forschungszentr '\n",
      " 'how can i get from olympiazentr to hauptbahnhof '\n",
      " 'how can i get from quiddestrass to boltzmannstrass '\n",
      " 'how can i get from moosach to garch forschungszentr '\n",
      " 'can you giv me a connect from garch to odeonsplatz '\n",
      " 'when is the next train from garch ' 'when com the next train '\n",
      " 'when is the next train in nordfriedhof '\n",
      " 'when doe the next train com at garch forschungszentr '\n",
      " 'when is the next train from nordfriedhof to garch forschungszentr '\n",
      " 'i want to travel from garch to odeonsplatz '\n",
      " 'how can i get to sendl tor ' 'how do i get to unt straussacker '\n",
      " 'how can i get from garch to garch '\n",
      " 'how can i get from garch to sendl tor '\n",
      " 'how can i get from garchingto garch '\n",
      " 'when is the next train from garch '\n",
      " 'how do i get from marienplatz zu garch '\n",
      " 'how can i get to milbertshof from garch '\n",
      " 'when is the next train to garch '\n",
      " 'how can i get from garch to milbertshof '\n",
      " 'when doe the next rocket leav from garch forschungszentr '\n",
      " 'connect from unt strassacker 21 to kieferngart '\n",
      " 'how to get from unt strassacker 21 to frotm '\n",
      " 'how to get from unt strassaecker 21 to frotm '\n",
      " 'when is the next train from unt strassaecker 21 to kieferngart '\n",
      " 'when is the next train from unt strassaecker 21 garch to kieferngart '\n",
      " 'from garch to perlach ' 'how to get from garch to perlach '\n",
      " 'how to get from bonnerplatz to freiman '\n",
      " 'when is the next train in nordfriedhof '\n",
      " 'when is the next train in munchn freiheit '\n",
      " 'connect from hauptbahnhof to odeonsplatz '\n",
      " 'how do i get from olymp einkaufszentr to hauptbahnhof '\n",
      " 'when is the next bus in garch forschungszentr '\n",
      " 'how can i get from garch to marienplatz '\n"
     ]
    },
    {
     "name": "stdout",
     "output_type": "stream",
     "text": [
      " 'from garch to studentenstadt ']\n"
     ]
    }
   ],
   "source": [
    "print(sentence)"
   ]
  },
  {
   "cell_type": "code",
   "execution_count": 33,
   "metadata": {},
   "outputs": [],
   "source": [
    "for idx, sentence in enumerate(sentence):\n",
    "    doc = nlp(sentence)\n",
    "    X[idx, :] = doc.vector"
   ]
  },
  {
   "cell_type": "code",
   "execution_count": 34,
   "metadata": {},
   "outputs": [
    {
     "data": {
      "text/plain": [
       "(206, 300)"
      ]
     },
     "execution_count": 34,
     "metadata": {},
     "output_type": "execute_result"
    }
   ],
   "source": [
    "X.shape"
   ]
  },
  {
   "cell_type": "code",
   "execution_count": 35,
   "metadata": {},
   "outputs": [],
   "source": [
    "X_train, X_test, y_train, y_test = train_test_split(X, intent, test_size=0.3, random_state=42)"
   ]
  },
  {
   "cell_type": "code",
   "execution_count": 36,
   "metadata": {},
   "outputs": [
    {
     "name": "stdout",
     "output_type": "stream",
     "text": [
      "Train X:  (144, 300)\n",
      "Train y:  (144,)\n",
      "Test X:  (62, 300)\n",
      "Tesr y:  (62,)\n"
     ]
    }
   ],
   "source": [
    "print(\"Train X: \", X_train.shape)\n",
    "print(\"Train y: \", y_train.shape)\n",
    "print(\"Test X: \", X_test.shape)\n",
    "print(\"Tesr y: \", y_test.shape)"
   ]
  },
  {
   "cell_type": "code",
   "execution_count": 37,
   "metadata": {},
   "outputs": [],
   "source": [
    "model_name = ['Logistic Regression', 'SGDClassifier','K-Nearest Neighbors', 'SVM', 'Random Forest Model', 'Xtereme Gradient Boosting Model','Extra Tress Classifier']\n",
    "test_accuracy = []\n",
    "precision = []\n",
    "recall = []\n",
    "f1_micro = []\n",
    "auc = []"
   ]
  },
  {
   "cell_type": "code",
   "execution_count": 38,
   "metadata": {},
   "outputs": [
    {
     "name": "stdout",
     "output_type": "stream",
     "text": [
      "Logistic Regression:  0.9564468864468866\n",
      "SGDClassifier:  0.9641391941391942\n",
      "KNN:  0.9503296703296703\n",
      "SVM, Vectors:  0.970805860805861\n",
      "Random Forest:  0.9343956043956043\n",
      "Xtereme Gradient Boosting Model:  0.9420879120879121\n",
      "Extra Tress Classifier:  0.970805860805861\n"
     ]
    }
   ],
   "source": [
    "### Logistic Regression\n",
    "\n",
    "accuracy = train_model(LogisticRegression(), X_train, y_train, X_test)\n",
    "print(\"Logistic Regression: \", accuracy)\n",
    "\n",
    "### SGDClassifier\n",
    "\n",
    "accuracy = train_model(SGDClassifier(alpha=.0001, max_iter=50, penalty=\"l1\"), X_train, y_train, X_test)\n",
    "print(\"SGDClassifier: \", accuracy)\n",
    "\n",
    "### K-Nearest Neighbors\n",
    "\n",
    "accuracy = train_model(KNeighborsClassifier(n_neighbors=5), X_train, y_train, X_test)\n",
    "print(\"KNN: \", accuracy)\n",
    "\n",
    "### SVM\n",
    "\n",
    "accuracy = train_model(svm.SVC(kernel='linear'), X_train, y_train, X_test)\n",
    "print(\"SVM, Vectors: \", accuracy)\n",
    "\n",
    "### Random Forest Model\n",
    "\n",
    "accuracy = train_model(ensemble.RandomForestClassifier(), X_train, y_train, X_test)\n",
    "print(\"Random Forest: \", accuracy)\n",
    "\n",
    "### Xtereme Gradient Boosting Model\n",
    "\n",
    "accuracy = train_model(xgboost.XGBClassifier(), X_train, y_train, X_test)\n",
    "print(\"Xtereme Gradient Boosting Model: \", accuracy)\n",
    "\n",
    "### Extra Tress Classifier \n",
    "\n",
    "accuracy = train_model(ExtraTreesClassifier(n_estimators=200), X_train, y_train, X_test)\n",
    "print(\"Extra Tress Classifier: \", accuracy)"
   ]
  },
  {
   "cell_type": "code",
   "execution_count": 39,
   "metadata": {},
   "outputs": [
    {
     "data": {
      "text/html": [
       "<div>\n",
       "<style scoped>\n",
       "    .dataframe tbody tr th:only-of-type {\n",
       "        vertical-align: middle;\n",
       "    }\n",
       "\n",
       "    .dataframe tbody tr th {\n",
       "        vertical-align: top;\n",
       "    }\n",
       "\n",
       "    .dataframe thead th {\n",
       "        text-align: right;\n",
       "    }\n",
       "</style>\n",
       "<table border=\"1\" class=\"dataframe\">\n",
       "  <thead>\n",
       "    <tr style=\"text-align: right;\">\n",
       "      <th></th>\n",
       "      <th>Model</th>\n",
       "      <th>Accuracy</th>\n",
       "      <th>Precision</th>\n",
       "      <th>Recall</th>\n",
       "      <th>Micro-averaged F1 score</th>\n",
       "      <th>ROC AUC</th>\n",
       "    </tr>\n",
       "  </thead>\n",
       "  <tbody>\n",
       "    <tr>\n",
       "      <th>3</th>\n",
       "      <td>SVM</td>\n",
       "      <td>0.970806</td>\n",
       "      <td>0.973333</td>\n",
       "      <td>0.969167</td>\n",
       "      <td>0.970806</td>\n",
       "      <td>0.997778</td>\n",
       "    </tr>\n",
       "    <tr>\n",
       "      <th>6</th>\n",
       "      <td>Extra Tress Classifier</td>\n",
       "      <td>0.970806</td>\n",
       "      <td>0.975714</td>\n",
       "      <td>0.969167</td>\n",
       "      <td>0.970806</td>\n",
       "      <td>1.000000</td>\n",
       "    </tr>\n",
       "    <tr>\n",
       "      <th>1</th>\n",
       "      <td>SGDClassifier</td>\n",
       "      <td>0.964139</td>\n",
       "      <td>0.968571</td>\n",
       "      <td>0.963611</td>\n",
       "      <td>0.964139</td>\n",
       "      <td>0.998148</td>\n",
       "    </tr>\n",
       "    <tr>\n",
       "      <th>0</th>\n",
       "      <td>Logistic Regression</td>\n",
       "      <td>0.956447</td>\n",
       "      <td>0.960238</td>\n",
       "      <td>0.957361</td>\n",
       "      <td>0.956447</td>\n",
       "      <td>0.998148</td>\n",
       "    </tr>\n",
       "    <tr>\n",
       "      <th>2</th>\n",
       "      <td>K-Nearest Neighbors</td>\n",
       "      <td>0.950330</td>\n",
       "      <td>0.959242</td>\n",
       "      <td>0.942500</td>\n",
       "      <td>0.950330</td>\n",
       "      <td>0.989815</td>\n",
       "    </tr>\n",
       "    <tr>\n",
       "      <th>5</th>\n",
       "      <td>Xtereme Gradient Boosting Model</td>\n",
       "      <td>0.942088</td>\n",
       "      <td>0.943571</td>\n",
       "      <td>0.941806</td>\n",
       "      <td>0.942088</td>\n",
       "      <td>0.993148</td>\n",
       "    </tr>\n",
       "    <tr>\n",
       "      <th>4</th>\n",
       "      <td>Random Forest Model</td>\n",
       "      <td>0.934396</td>\n",
       "      <td>0.937619</td>\n",
       "      <td>0.935556</td>\n",
       "      <td>0.934396</td>\n",
       "      <td>0.978750</td>\n",
       "    </tr>\n",
       "  </tbody>\n",
       "</table>\n",
       "</div>"
      ],
      "text/plain": [
       "                             Model  Accuracy  Precision    Recall  \\\n",
       "3                              SVM  0.970806   0.973333  0.969167   \n",
       "6           Extra Tress Classifier  0.970806   0.975714  0.969167   \n",
       "1                    SGDClassifier  0.964139   0.968571  0.963611   \n",
       "0              Logistic Regression  0.956447   0.960238  0.957361   \n",
       "2              K-Nearest Neighbors  0.950330   0.959242  0.942500   \n",
       "5  Xtereme Gradient Boosting Model  0.942088   0.943571  0.941806   \n",
       "4              Random Forest Model  0.934396   0.937619  0.935556   \n",
       "\n",
       "   Micro-averaged F1 score   ROC AUC  \n",
       "3                 0.970806  0.997778  \n",
       "6                 0.970806  1.000000  \n",
       "1                 0.964139  0.998148  \n",
       "0                 0.956447  0.998148  \n",
       "2                 0.950330  0.989815  \n",
       "5                 0.942088  0.993148  \n",
       "4                 0.934396  0.978750  "
      ]
     },
     "execution_count": 39,
     "metadata": {},
     "output_type": "execute_result"
    }
   ],
   "source": [
    "models_initial = pd.DataFrame({\n",
    "    'Model'       : model_name,\n",
    "    'Accuracy'    : test_accuracy,\n",
    "    'Precision'   : precision,\n",
    "    'Recall'      : recall,\n",
    "    'Micro-averaged F1 score' : f1_micro,\n",
    "    'ROC AUC'     : auc\n",
    "    }, columns = ['Model', 'Accuracy', 'Precision', 'Recall', 'Micro-averaged F1 score', 'ROC AUC'])\n",
    "\n",
    "models_initial.sort_values(by='Micro-averaged F1 score', ascending=False)"
   ]
  },
  {
   "cell_type": "code",
   "execution_count": 40,
   "metadata": {},
   "outputs": [],
   "source": [
    "sgd_classifier = SGDClassifier(alpha=.0001, max_iter=50, penalty=\"l1\").fit(X_train, y_train)\n",
    "\n",
    "def predictQuery(text):\n",
    "    # Parse the text with spaCy.\n",
    "    doc = nlp(text)\n",
    "    for entity in doc.ents:\n",
    "        print(f\"{entity.text} ({entity.label_})\")\n",
    "    return sgd_classifier.predict(doc.vector.reshape(1,-1))"
   ]
  },
  {
   "cell_type": "code",
   "execution_count": 41,
   "metadata": {},
   "outputs": [
    {
     "data": {
      "text/plain": [
       "array(['DepartureTime'], dtype='<U14')"
      ]
     },
     "execution_count": 41,
     "metadata": {},
     "output_type": "execute_result"
    }
   ],
   "source": [
    "predictQuery(\"when the next train from borussia\")"
   ]
  },
  {
   "cell_type": "code",
   "execution_count": 42,
   "metadata": {},
   "outputs": [
    {
     "name": "stdout",
     "output_type": "stream",
     "text": [
      "(Munich, Garching - Forschungszentrum)\n",
      "Munich (GPE)\n",
      "Garching - Forschungszentrum (NORP)\n"
     ]
    }
   ],
   "source": [
    "doc = nlp(\"can you find a connection from Munich to Garching - Forschungszentrum\")\n",
    "print(doc.ents)\n",
    "for entity in doc.ents:\n",
    "    print(f\"{entity.text} ({entity.label_})\")"
   ]
  },
  {
   "cell_type": "code",
   "execution_count": null,
   "metadata": {},
   "outputs": [],
   "source": []
  },
  {
   "cell_type": "markdown",
   "metadata": {},
   "source": [
    "# Data Augmentation"
   ]
  },
  {
   "cell_type": "code",
   "execution_count": 43,
   "metadata": {},
   "outputs": [
    {
     "data": {
      "text/plain": [
       "FindConnection    128\n",
       "DepartureTime      78\n",
       "Name: intent, dtype: int64"
      ]
     },
     "execution_count": 43,
     "metadata": {},
     "output_type": "execute_result"
    }
   ],
   "source": [
    "df['intent'].value_counts() "
   ]
  },
  {
   "cell_type": "code",
   "execution_count": 44,
   "metadata": {},
   "outputs": [
    {
     "data": {
      "image/png": "[encoded data removed]",
      "text/plain": [
       "<Figure size 720x576 with 1 Axes>"
      ]
     },
     "metadata": {
      "needs_background": "light"
     },
     "output_type": "display_data"
    }
   ],
   "source": [
    "plt.figure(figsize = (10, 8))\n",
    "sns.countplot(df['intent'])\n",
    "plt.show()"
   ]
  },
  {
   "cell_type": "code",
   "execution_count": 45,
   "metadata": {},
   "outputs": [],
   "source": [
    "# Selecting sentences with only DepartureTime as intent\n",
    "sentence_departureTime = df[df['intent'] == 'DepartureTime']['sentence'].apply(cleaning)"
   ]
  },
  {
   "cell_type": "code",
   "execution_count": 46,
   "metadata": {},
   "outputs": [
    {
     "data": {
      "text/plain": [
       "1             when is the next train in munch freiheit \n",
       "2     when doe the next u bahn leav from garch forsc...\n",
       "11               when is the next s bahn leav at garch \n",
       "17              when doe the next bus start from garch \n",
       "21               when doe the next train leav at garch \n",
       "26    when is the next train leav in garch forschung...\n",
       "32                when doe the next bus start at garch \n",
       "34                when is the next bus from ostbahnhof \n",
       "36           when is the next train in munchn freiheit \n",
       "44                               next train from garch \n",
       "Name: sentence, dtype: object"
      ]
     },
     "execution_count": 46,
     "metadata": {},
     "output_type": "execute_result"
    }
   ],
   "source": [
    "sentence_departureTime.head(10)"
   ]
  },
  {
   "cell_type": "code",
   "execution_count": 47,
   "metadata": {},
   "outputs": [],
   "source": [
    "def get_synonyms_lexicon(path):\n",
    "    synonyms_lexicon = {}\n",
    "    text_entries = [l.strip() for l in open(path, encoding='utf-8').readlines()]\n",
    "    for e in text_entries:\n",
    "        e = e.split(' ')\n",
    "        k = e[0]\n",
    "        v = e[1:len(e)]\n",
    "        synonyms_lexicon[k] = v\n",
    "    return synonyms_lexicon\n",
    "\n",
    "def synonym_replacement(sentence, synonyms_lexicon):\n",
    "    keys = synonyms_lexicon.keys()\n",
    "    words = word_tokenize(sentence)\n",
    "    n_sentence = sentence\n",
    "    for w in words:\n",
    "        if w not in stoplist:\n",
    "            if w in keys:\n",
    "                n_sentence = n_sentence.replace(w, synonyms_lexicon[w][0])  # we replace with the first synonym\n",
    "    return n_sentence\n",
    "\n",
    "def remove_punctuation(text):\n",
    "    no_punct = \"\".join([c for c in text if c not in string.punctuation])\n",
    "    return no_punct"
   ]
  },
  {
   "cell_type": "code",
   "execution_count": 48,
   "metadata": {},
   "outputs": [],
   "source": [
    "sentence_departureTime = sentence_departureTime.apply(lambda x: remove_punctuation(x)).values"
   ]
  },
  {
   "cell_type": "code",
   "execution_count": 49,
   "metadata": {},
   "outputs": [
    {
     "name": "stdout",
     "output_type": "stream",
     "text": [
      "when is the next train in munch freiheit \n",
      "when is the coming trains in monk freedom \n",
      "\n",
      "\n",
      "when doe the next u bahn leav from garch forschungszentr \n",
      "when doyudoyu the coming yu bahn leav from garch forschyungszentr \n",
      "\n",
      "\n",
      "when is the next s bahn leav at garch \n",
      "when is the coming s bahn leav at garch \n",
      "\n",
      "\n",
      "when doe the next bus start from garch \n",
      "when doudou the coming buses begin from garch \n",
      "\n",
      "\n",
      "when doe the next train leav at garch \n",
      "when doudou the coming trains leav at garch \n",
      "\n",
      "\n",
      "when is the next train leav in garch forschungszentr \n",
      "when is the coming trains leav in garch forschungszentr \n",
      "\n",
      "\n",
      "when doe the next bus start at garch \n",
      "when doudou the coming buses begin at garch \n",
      "\n",
      "\n",
      "when is the next bus from ostbahnhof \n",
      "when is the coming buses from ostbahnhof \n",
      "\n",
      "\n",
      "when is the next train in munchn freiheit \n",
      "when is the coming trains in munchn freedom \n",
      "\n",
      "\n",
      "next train from garch \n",
      "coming trains from garch \n",
      "\n",
      "\n",
      "when is the next subway from garch forschungszentr \n",
      "when is the coming metro from garch forschungszentr \n",
      "\n",
      "\n",
      "next bus in garch \n",
      "coming buses in garch \n",
      "\n",
      "\n",
      "when doe the train leav in garch forschungszentr \n",
      "when doudou the trains leav in garch forschungszentr \n",
      "\n",
      "\n",
      "next subway from garch forschungszentr \n",
      "coming metro from garch forschungszentr \n",
      "\n",
      "\n",
      "tel me the next bus from garch \n",
      "phone me the coming buses from garch \n",
      "\n",
      "\n",
      "next bus from garch pleas \n",
      "coming buses from garch means \n",
      "\n",
      "\n",
      "next bus from garch \n",
      "coming buses from garch \n",
      "\n",
      "\n",
      "next bus from cent stat \n",
      "coming buses from % state \n",
      "\n",
      "\n",
      "next bus from garch \n",
      "coming buses from garch \n",
      "\n",
      "\n",
      "when doe the next bus depart from garch \n",
      "when doudou the coming buses deviate from garch \n",
      "\n",
      "\n",
      "when doe the next u bahn depart at garch forschungszentr \n",
      "when doyudoyu the coming yu bahn deviate at garch forschyungszentr \n",
      "\n",
      "\n",
      "when doe the next u bahn depart at garch \n",
      "when doyudoyu the coming yu bahn deviate at garch \n",
      "\n",
      "\n",
      "when doe the next subway depart at garch \n",
      "when doudou the coming metro deviate at garch \n",
      "\n",
      "\n",
      "when is the next train in garch \n",
      "when is the coming trains in garch \n",
      "\n",
      "\n",
      "when is the next bus from garch forschungzentr \n",
      "when is the coming buses from garch forschungzentr \n",
      "\n",
      "\n",
      "next train from muench freicheit \n",
      "coming trains from muench freicheit \n",
      "\n",
      "\n",
      "depart in garch i assum \n",
      "deviate in garch i assum \n",
      "\n",
      "\n",
      "when doe the next u bahn depart at garch \n",
      "when doyudoyu the coming yu bahn deviate at garch \n",
      "\n",
      "\n",
      "the next bus from garch forschungzentr \n",
      "the coming buses from garch forschungzentr \n",
      "\n",
      "\n",
      "when is the next train in alt heid \n",
      "when is the coming trains in old heid \n",
      "\n",
      "\n",
      "or depart from garch \n",
      "or deviate from garch \n",
      "\n",
      "\n",
      "when doe the next u6 leav from garch forschungszentr \n",
      "when doudou the coming u6 leav from garch forschungszentr \n",
      "\n",
      "\n",
      "when is the train from garch \n",
      "when is the trains from garch \n",
      "\n",
      "\n",
      "what is the next train from munchn freiheit \n",
      "what is the coming trains from munchn freedom \n",
      "\n",
      "\n",
      "when is the next bus from garch \n",
      "when is the coming buses from garch \n",
      "\n",
      "\n",
      "when doe the next bus leav from hauptbahnhof \n",
      "when doudou the coming buses leav from hauptbahnhof \n",
      "\n",
      "\n",
      "when the next train in garch forschungszentr is leav \n",
      "when the coming trains in garch forschungszentr is leav \n",
      "\n",
      "\n",
      "when doe the next train depart from quiddestrass \n",
      "when doudou the coming trains deviate from quiddestrass \n",
      "\n",
      "\n",
      "when the next train in garch forschungszentr is leav \n",
      "when the coming trains in garch forschungszentr is leav \n",
      "\n",
      "\n",
      "when is the next u6 leav from garch \n",
      "when is the coming u6 leav from garch \n",
      "\n",
      "\n",
      "when doe the next train leav from garch forschungszentr \n",
      "when doudou the coming trains leav from garch forschungszentr \n",
      "\n",
      "\n",
      "when is the next u6 \n",
      "when is the coming u6 \n",
      "\n",
      "\n",
      "when is the next subway leav from garch \n",
      "when is the coming metro leav from garch \n",
      "\n",
      "\n",
      "when the next train in garch is leav \n",
      "when the coming trains in garch is leav \n",
      "\n",
      "\n",
      "when is the next train leav in garch \n",
      "when is the coming trains leav in garch \n",
      "\n",
      "\n",
      "when doe the next train leav from odeonsplatz \n",
      "when doudou the coming trains leav from odeonsplatz \n",
      "\n",
      "\n",
      "when doe the next train leav from quiddestrass \n",
      "when doudou the coming trains leav from quiddestrass \n",
      "\n",
      "\n",
      "when is the next train \n",
      "when is the coming trains \n",
      "\n",
      "\n",
      "when doe the next bus leav at garch forschungszentr \n",
      "when doudou the coming buses leav at garch forschungszentr \n",
      "\n",
      "\n",
      "when doe the next train leav \n",
      "when doudou the coming trains leav \n",
      "\n",
      "\n",
      "when doe the next bus leav in garch \n",
      "when doudou the coming buses leav in garch \n",
      "\n",
      "\n",
      "when doe the next s bahn leav from hauptbahnhof \n",
      "when doudou the coming s bahn leav from hauptbahnhof \n",
      "\n",
      "\n",
      "when doe the next subway depart from odeonsplatz \n",
      "when doudou the coming metro deviate from odeonsplatz \n",
      "\n",
      "\n",
      "show me the next bus from garch \n",
      "demonstrate me the coming buses from garch \n",
      "\n",
      "\n",
      "when doe the next tram start from hauptbahnhof \n",
      "when doudou the coming tramway begin from hauptbahnhof \n",
      "\n",
      "\n",
      "when wil the next u bahn depart from garch forschungszentr \n",
      "when wil the coming yu bahn deviate from garch forschyungszentr \n",
      "\n",
      "\n",
      "show me the next bus from michaelibad \n",
      "demonstrate me the coming buses from michaelibad \n",
      "\n",
      "\n",
      "when doe the next train start at sendl tor \n",
      "when doudou the coming trains begin at sendl rpt \n",
      "\n",
      "\n",
      "hey bot when doe the next bus start at garch \n",
      "hi baute when doudou the coming buses begin at garch \n",
      "\n",
      "\n",
      "when doe the next bus leav at garch \n",
      "when doudou the coming buses leav at garch \n",
      "\n",
      "\n",
      "when is the bus from quiddestrass \n",
      "when is the buses from quiddestrass \n",
      "\n",
      "\n",
      "when can i get a bus at mariahilfplatz \n",
      "when can i obtain a buses at mariahilfplatz \n",
      "\n",
      "\n",
      "when doe the next bus leav at romanplatz \n",
      "when doudou the coming buses leav at romanplatz \n",
      "\n",
      "\n",
      "when doe the bus to roblingweg start \n",
      "when doudou the buses to roblingweg begin \n",
      "\n",
      "\n",
      "next bus from quiddestrass \n",
      "coming buses from quiddestrass \n",
      "\n",
      "\n",
      "when is the next bus leav from garch \n",
      "when is the coming buses leav from garch \n",
      "\n",
      "\n",
      "when is the train leav in garch \n",
      "when is the trains leav in garch \n",
      "\n",
      "\n",
      "when is the train leav in garch \n",
      "when is the trains leav in garch \n",
      "\n",
      "\n",
      "when is adr next subway leav at garch forschungszentr \n",
      "when is ndr coming metro leav at garch forschungszentr \n",
      "\n",
      "\n",
      "when is the next train from garch \n",
      "when is the coming trains from garch \n",
      "\n",
      "\n",
      "when com the next train \n",
      "when cmo the coming trains \n",
      "\n",
      "\n",
      "when is the next train in nordfriedhof \n",
      "when is the coming trains in nordfriedhof \n",
      "\n",
      "\n",
      "when doe the next train com at garch forschungszentr \n",
      "when doudou the cmoing trains cmo at garch forschungszentr \n",
      "\n",
      "\n",
      "when is the next train from garch \n",
      "when is the coming trains from garch \n",
      "\n",
      "\n",
      "when doe the next rocket leav from garch forschungszentr \n",
      "when doudou the coming missile leav from garch forschungszentr \n",
      "\n",
      "\n",
      "when is the next train in nordfriedhof \n",
      "when is the coming trains in nordfriedhof \n",
      "\n",
      "\n",
      "when is the next train in munchn freiheit \n",
      "when is the coming trains in munchn freedom \n",
      "\n",
      "\n",
      "when is the next bus in garch forschungszentr \n",
      "when is the coming buses in garch forschungszentr \n",
      "\n",
      "\n"
     ]
    }
   ],
   "source": [
    "new_sentences = []\n",
    "for text in sentence_departureTime:\n",
    "    sentences = text.split('.')\n",
    "    synonyms_lexicon = get_synonyms_lexicon('data/ppdb-xl.txt')\n",
    "    for sentence in sentences:\n",
    "        new_sentence = synonym_replacement(sentence, synonyms_lexicon)\n",
    "        print('%s' % sentence)\n",
    "        print('%s' % new_sentence)\n",
    "        print('\\n')\n",
    "        new_sentences.append(new_sentence)"
   ]
  },
  {
   "cell_type": "code",
   "execution_count": 50,
   "metadata": {},
   "outputs": [
    {
     "data": {
      "text/plain": [
       "['when is the coming trains in monk freedom ',\n",
       " 'when doyudoyu the coming yu bahn leav from garch forschyungszentr ',\n",
       " 'when is the coming s bahn leav at garch ',\n",
       " 'when doudou the coming buses begin from garch ',\n",
       " 'when doudou the coming trains leav at garch ',\n",
       " 'when is the coming trains leav in garch forschungszentr ',\n",
       " 'when doudou the coming buses begin at garch ',\n",
       " 'when is the coming buses from ostbahnhof ',\n",
       " 'when is the coming trains in munchn freedom ',\n",
       " 'coming trains from garch ']"
      ]
     },
     "execution_count": 50,
     "metadata": {},
     "output_type": "execute_result"
    }
   ],
   "source": [
    "new_sentences[:10]"
   ]
  },
  {
   "cell_type": "code",
   "execution_count": 51,
   "metadata": {},
   "outputs": [],
   "source": [
    "sampling = random.choices(new_sentences, k=50)"
   ]
  },
  {
   "cell_type": "code",
   "execution_count": 52,
   "metadata": {},
   "outputs": [
    {
     "data": {
      "text/plain": [
       "50"
      ]
     },
     "execution_count": 52,
     "metadata": {},
     "output_type": "execute_result"
    }
   ],
   "source": [
    "len(sampling)"
   ]
  },
  {
   "cell_type": "code",
   "execution_count": 53,
   "metadata": {},
   "outputs": [],
   "source": [
    "new_datafram = pd.DataFrame({'sentence': sampling,'intent': 'DepartureTime',}, columns = ['sentence', 'intent'])"
   ]
  },
  {
   "cell_type": "code",
   "execution_count": 54,
   "metadata": {},
   "outputs": [],
   "source": [
    "frames = [df, new_datafram]\n",
    "new_data = result = pd.concat(frames)\n",
    "new_data = shuffle(new_data)"
   ]
  },
  {
   "cell_type": "code",
   "execution_count": 55,
   "metadata": {},
   "outputs": [
    {
     "data": {
      "text/html": [
       "<div>\n",
       "<style scoped>\n",
       "    .dataframe tbody tr th:only-of-type {\n",
       "        vertical-align: middle;\n",
       "    }\n",
       "\n",
       "    .dataframe tbody tr th {\n",
       "        vertical-align: top;\n",
       "    }\n",
       "\n",
       "    .dataframe thead th {\n",
       "        text-align: right;\n",
       "    }\n",
       "</style>\n",
       "<table border=\"1\" class=\"dataframe\">\n",
       "  <thead>\n",
       "    <tr style=\"text-align: right;\">\n",
       "      <th></th>\n",
       "      <th>sentence</th>\n",
       "      <th>intent</th>\n",
       "    </tr>\n",
       "  </thead>\n",
       "  <tbody>\n",
       "    <tr>\n",
       "      <th>121</th>\n",
       "      <td>can you find a bus from quiddestraße to lehel?</td>\n",
       "      <td>FindConnection</td>\n",
       "    </tr>\n",
       "    <tr>\n",
       "      <th>112</th>\n",
       "      <td>could you give me the fastest connection betwe...</td>\n",
       "      <td>FindConnection</td>\n",
       "    </tr>\n",
       "    <tr>\n",
       "      <th>43</th>\n",
       "      <td>i want to go to garching from marienplatz</td>\n",
       "      <td>FindConnection</td>\n",
       "    </tr>\n",
       "    <tr>\n",
       "      <th>203</th>\n",
       "      <td>when is the next bus in garching forschungszen...</td>\n",
       "      <td>DepartureTime</td>\n",
       "    </tr>\n",
       "    <tr>\n",
       "      <th>20</th>\n",
       "      <td>can you find a connection from quiddestraße to...</td>\n",
       "      <td>FindConnection</td>\n",
       "    </tr>\n",
       "    <tr>\n",
       "      <th>36</th>\n",
       "      <td>when is the next train in munchner freiheit?</td>\n",
       "      <td>DepartureTime</td>\n",
       "    </tr>\n",
       "    <tr>\n",
       "      <th>1</th>\n",
       "      <td>when doudou the coming s bahn leav from hauptb...</td>\n",
       "      <td>DepartureTime</td>\n",
       "    </tr>\n",
       "    <tr>\n",
       "      <th>155</th>\n",
       "      <td>when will the next u-bahn depart from garching...</td>\n",
       "      <td>DepartureTime</td>\n",
       "    </tr>\n",
       "    <tr>\n",
       "      <th>75</th>\n",
       "      <td>neufahrn to garching</td>\n",
       "      <td>FindConnection</td>\n",
       "    </tr>\n",
       "    <tr>\n",
       "      <th>187</th>\n",
       "      <td>how can i get to milbertshofen from garching?</td>\n",
       "      <td>FindConnection</td>\n",
       "    </tr>\n",
       "  </tbody>\n",
       "</table>\n",
       "</div>"
      ],
      "text/plain": [
       "                                              sentence          intent\n",
       "121     can you find a bus from quiddestraße to lehel?  FindConnection\n",
       "112  could you give me the fastest connection betwe...  FindConnection\n",
       "43           i want to go to garching from marienplatz  FindConnection\n",
       "203  when is the next bus in garching forschungszen...   DepartureTime\n",
       "20   can you find a connection from quiddestraße to...  FindConnection\n",
       "36        when is the next train in munchner freiheit?   DepartureTime\n",
       "1    when doudou the coming s bahn leav from hauptb...   DepartureTime\n",
       "155  when will the next u-bahn depart from garching...   DepartureTime\n",
       "75                                neufahrn to garching  FindConnection\n",
       "187      how can i get to milbertshofen from garching?  FindConnection"
      ]
     },
     "execution_count": 55,
     "metadata": {},
     "output_type": "execute_result"
    }
   ],
   "source": [
    "new_data.head(10)"
   ]
  },
  {
   "cell_type": "code",
   "execution_count": 56,
   "metadata": {},
   "outputs": [
    {
     "data": {
      "text/plain": [
       "DepartureTime     128\n",
       "FindConnection    128\n",
       "Name: intent, dtype: int64"
      ]
     },
     "execution_count": 56,
     "metadata": {},
     "output_type": "execute_result"
    }
   ],
   "source": [
    "df = new_data\n",
    "df['intent'].value_counts() "
   ]
  },
  {
   "cell_type": "code",
   "execution_count": 57,
   "metadata": {},
   "outputs": [
    {
     "data": {
      "image/png": "[encoded data removed]",
      "text/plain": [
       "<Figure size 720x576 with 1 Axes>"
      ]
     },
     "metadata": {
      "needs_background": "light"
     },
     "output_type": "display_data"
    }
   ],
   "source": [
    "plt.figure(figsize = (10, 8))\n",
    "sns.countplot(df['intent'])\n",
    "plt.show()"
   ]
  },
  {
   "cell_type": "code",
   "execution_count": 58,
   "metadata": {},
   "outputs": [
    {
     "data": {
      "text/plain": [
       "<matplotlib.axes._subplots.AxesSubplot at 0x1c2468b47b8>"
      ]
     },
     "execution_count": 58,
     "metadata": {},
     "output_type": "execute_result"
    },
    {
     "data": {
      "image/png": "[encoded data removed]",
      "text/plain": [
       "<Figure size 432x288 with 1 Axes>"
      ]
     },
     "metadata": {},
     "output_type": "display_data"
    }
   ],
   "source": [
    "df['intent'].value_counts().plot(kind='pie')"
   ]
  },
  {
   "cell_type": "code",
   "execution_count": 59,
   "metadata": {},
   "outputs": [],
   "source": [
    "sentence = np.array(df['sentence'])\n",
    "intent = np.array(df['intent'])"
   ]
  },
  {
   "cell_type": "code",
   "execution_count": 60,
   "metadata": {},
   "outputs": [],
   "source": [
    "n_queries=len(sentence)\n",
    "dim_embedding = nlp.vocab.vectors_length\n",
    "X = np.zeros((n_queries, dim_embedding))"
   ]
  },
  {
   "cell_type": "code",
   "execution_count": 61,
   "metadata": {},
   "outputs": [],
   "source": [
    "for idx, sentence in enumerate(sentence):\n",
    "    doc = nlp(sentence)\n",
    "    X[idx, :] = doc.vector"
   ]
  },
  {
   "cell_type": "code",
   "execution_count": 62,
   "metadata": {},
   "outputs": [
    {
     "data": {
      "text/plain": [
       "(256, 300)"
      ]
     },
     "execution_count": 62,
     "metadata": {},
     "output_type": "execute_result"
    }
   ],
   "source": [
    "X.shape"
   ]
  },
  {
   "cell_type": "code",
   "execution_count": 63,
   "metadata": {},
   "outputs": [],
   "source": [
    "X_train, X_test, y_train, y_test = train_test_split(X, intent, test_size=0.3, random_state=42)"
   ]
  },
  {
   "cell_type": "code",
   "execution_count": 64,
   "metadata": {},
   "outputs": [
    {
     "name": "stdout",
     "output_type": "stream",
     "text": [
      "Train X:  (179, 300)\n",
      "Train y:  (179,)\n",
      "Test X:  (77, 300)\n",
      "Tesr y:  (77,)\n"
     ]
    }
   ],
   "source": [
    "print(\"Train X: \", X_train.shape)\n",
    "print(\"Train y: \", y_train.shape)\n",
    "print(\"Test X: \", X_test.shape)\n",
    "print(\"Tesr y: \", y_test.shape)"
   ]
  },
  {
   "cell_type": "code",
   "execution_count": 65,
   "metadata": {},
   "outputs": [],
   "source": [
    "model_name = ['Logistic Regression', 'SGDClassifier','K-Nearest Neighbors', 'SVM', 'Random Forest Model', 'Xtereme Gradient Boosting Model','Extra Tress Classifier']\n",
    "test_accuracy = []\n",
    "precision = []\n",
    "recall = []\n",
    "f1_micro = []\n",
    "auc = []"
   ]
  },
  {
   "cell_type": "code",
   "execution_count": 66,
   "metadata": {},
   "outputs": [
    {
     "name": "stdout",
     "output_type": "stream",
     "text": [
      "Logistic Regression:  0.9671826625386997\n",
      "SGDClassifier:  0.9835913312693499\n",
      "KNN:  0.9882352941176471\n",
      "SVM, Vectors:  0.9941176470588236\n",
      "Random Forest:  0.9628654970760234\n",
      "Xtereme Gradient Boosting Model:  0.9563639490884073\n",
      "Extra Tress Classifier:  0.9780357757137942\n"
     ]
    }
   ],
   "source": [
    "### Logistic Regression\n",
    "\n",
    "accuracy = train_model(LogisticRegression(), X_train, y_train, X_test)\n",
    "print(\"Logistic Regression: \", accuracy)\n",
    "\n",
    "### SGDClassifier\n",
    "\n",
    "accuracy = train_model(SGDClassifier(alpha=.0001, max_iter=50, penalty=\"l1\"), X_train, y_train, X_test)\n",
    "print(\"SGDClassifier: \", accuracy)\n",
    "\n",
    "### K-Nearest Neighbors\n",
    "\n",
    "accuracy = train_model(KNeighborsClassifier(n_neighbors=5), X_train, y_train, X_test)\n",
    "print(\"KNN: \", accuracy)\n",
    "\n",
    "### SVM\n",
    "\n",
    "accuracy = train_model(svm.SVC(kernel='linear'), X_train, y_train, X_test)\n",
    "print(\"SVM, Vectors: \", accuracy)\n",
    "\n",
    "### Random Forest Model\n",
    "\n",
    "accuracy = train_model(ensemble.RandomForestClassifier(), X_train, y_train, X_test)\n",
    "print(\"Random Forest: \", accuracy)\n",
    "\n",
    "### Xtereme Gradient Boosting Model\n",
    "\n",
    "accuracy = train_model(xgboost.XGBClassifier(), X_train, y_train, X_test)\n",
    "print(\"Xtereme Gradient Boosting Model: \", accuracy)\n",
    "\n",
    "### Extra Tress Classifier \n",
    "\n",
    "accuracy = train_model(ExtraTreesClassifier(n_estimators=200), X_train, y_train, X_test)\n",
    "print(\"Extra Tress Classifier: \", accuracy)"
   ]
  },
  {
   "cell_type": "code",
   "execution_count": 67,
   "metadata": {},
   "outputs": [
    {
     "data": {
      "text/html": [
       "<div>\n",
       "<style scoped>\n",
       "    .dataframe tbody tr th:only-of-type {\n",
       "        vertical-align: middle;\n",
       "    }\n",
       "\n",
       "    .dataframe tbody tr th {\n",
       "        vertical-align: top;\n",
       "    }\n",
       "\n",
       "    .dataframe thead th {\n",
       "        text-align: right;\n",
       "    }\n",
       "</style>\n",
       "<table border=\"1\" class=\"dataframe\">\n",
       "  <thead>\n",
       "    <tr style=\"text-align: right;\">\n",
       "      <th></th>\n",
       "      <th>Model</th>\n",
       "      <th>Accuracy</th>\n",
       "      <th>Precision</th>\n",
       "      <th>Recall</th>\n",
       "      <th>Micro-averaged F1 score</th>\n",
       "      <th>ROC AUC</th>\n",
       "    </tr>\n",
       "  </thead>\n",
       "  <tbody>\n",
       "    <tr>\n",
       "      <th>3</th>\n",
       "      <td>SVM</td>\n",
       "      <td>0.994118</td>\n",
       "      <td>0.995000</td>\n",
       "      <td>0.993750</td>\n",
       "      <td>0.994118</td>\n",
       "      <td>0.997222</td>\n",
       "    </tr>\n",
       "    <tr>\n",
       "      <th>2</th>\n",
       "      <td>K-Nearest Neighbors</td>\n",
       "      <td>0.988235</td>\n",
       "      <td>0.989444</td>\n",
       "      <td>0.988194</td>\n",
       "      <td>0.988235</td>\n",
       "      <td>0.991667</td>\n",
       "    </tr>\n",
       "    <tr>\n",
       "      <th>1</th>\n",
       "      <td>SGDClassifier</td>\n",
       "      <td>0.983591</td>\n",
       "      <td>0.985909</td>\n",
       "      <td>0.983750</td>\n",
       "      <td>0.983591</td>\n",
       "      <td>0.997222</td>\n",
       "    </tr>\n",
       "    <tr>\n",
       "      <th>6</th>\n",
       "      <td>Extra Tress Classifier</td>\n",
       "      <td>0.978036</td>\n",
       "      <td>0.980354</td>\n",
       "      <td>0.978750</td>\n",
       "      <td>0.978036</td>\n",
       "      <td>0.998611</td>\n",
       "    </tr>\n",
       "    <tr>\n",
       "      <th>0</th>\n",
       "      <td>Logistic Regression</td>\n",
       "      <td>0.967183</td>\n",
       "      <td>0.969104</td>\n",
       "      <td>0.968194</td>\n",
       "      <td>0.967183</td>\n",
       "      <td>0.996111</td>\n",
       "    </tr>\n",
       "    <tr>\n",
       "      <th>4</th>\n",
       "      <td>Random Forest Model</td>\n",
       "      <td>0.962865</td>\n",
       "      <td>0.966263</td>\n",
       "      <td>0.965000</td>\n",
       "      <td>0.962865</td>\n",
       "      <td>0.992778</td>\n",
       "    </tr>\n",
       "    <tr>\n",
       "      <th>5</th>\n",
       "      <td>Xtereme Gradient Boosting Model</td>\n",
       "      <td>0.956364</td>\n",
       "      <td>0.957992</td>\n",
       "      <td>0.957639</td>\n",
       "      <td>0.956364</td>\n",
       "      <td>0.990278</td>\n",
       "    </tr>\n",
       "  </tbody>\n",
       "</table>\n",
       "</div>"
      ],
      "text/plain": [
       "                             Model  Accuracy  Precision    Recall  \\\n",
       "3                              SVM  0.994118   0.995000  0.993750   \n",
       "2              K-Nearest Neighbors  0.988235   0.989444  0.988194   \n",
       "1                    SGDClassifier  0.983591   0.985909  0.983750   \n",
       "6           Extra Tress Classifier  0.978036   0.980354  0.978750   \n",
       "0              Logistic Regression  0.967183   0.969104  0.968194   \n",
       "4              Random Forest Model  0.962865   0.966263  0.965000   \n",
       "5  Xtereme Gradient Boosting Model  0.956364   0.957992  0.957639   \n",
       "\n",
       "   Micro-averaged F1 score   ROC AUC  \n",
       "3                 0.994118  0.997222  \n",
       "2                 0.988235  0.991667  \n",
       "1                 0.983591  0.997222  \n",
       "6                 0.978036  0.998611  \n",
       "0                 0.967183  0.996111  \n",
       "4                 0.962865  0.992778  \n",
       "5                 0.956364  0.990278  "
      ]
     },
     "execution_count": 67,
     "metadata": {},
     "output_type": "execute_result"
    }
   ],
   "source": [
    "models_initial = pd.DataFrame({\n",
    "    'Model'       : model_name,\n",
    "    'Accuracy'    : test_accuracy,\n",
    "    'Precision'   : precision,\n",
    "    'Recall'      : recall,\n",
    "    'Micro-averaged F1 score' : f1_micro,\n",
    "    'ROC AUC'     : auc\n",
    "    }, columns = ['Model', 'Accuracy', 'Precision', 'Recall', 'Micro-averaged F1 score', 'ROC AUC'])\n",
    "\n",
    "models_initial.sort_values(by='Micro-averaged F1 score', ascending=False)"
   ]
  },
  {
   "cell_type": "code",
   "execution_count": 68,
   "metadata": {},
   "outputs": [],
   "source": [
    "sgd_classifier = SGDClassifier(alpha=.0001, max_iter=50, penalty=\"l1\").fit(X_train, y_train)"
   ]
  },
  {
   "cell_type": "code",
   "execution_count": 69,
   "metadata": {},
   "outputs": [],
   "source": [
    "def predictQuery(text):\n",
    "    doc = nlp(text)\n",
    "    return sgd_classifier.predict(doc.vector.reshape(1,-1))"
   ]
  },
  {
   "cell_type": "code",
   "execution_count": 70,
   "metadata": {},
   "outputs": [
    {
     "data": {
      "text/plain": [
       "array(['DepartureTime'], dtype='<U14')"
      ]
     },
     "execution_count": 70,
     "metadata": {},
     "output_type": "execute_result"
    }
   ],
   "source": [
    "predictQuery(\"When is the next train from Bayern to Franfurt\")\n",
    "predictQuery(\"what time is the next bus\")"
   ]
  },
  {
   "cell_type": "code",
   "execution_count": null,
   "metadata": {},
   "outputs": [],
   "source": []
  },
  {
   "cell_type": "code",
   "execution_count": null,
   "metadata": {},
   "outputs": [],
   "source": []
  },
  {
   "cell_type": "markdown",
   "metadata": {},
   "source": [
    "## Pointers"
   ]
  },
  {
   "cell_type": "markdown",
   "metadata": {},
   "source": [
    "### Ask yourself why would they have selected this problem for the challenge? What are some basics in this domain I should know about?\n",
    "\n",
    "#### Different approaches/algorithms to NLP. How different hyperparameters can be used to tweak the algorithm, sound understanding about preprocessing, and strong reason to pick one method over the other, knowledge with common libraries like nltk, spaCy"
   ]
  },
  {
   "cell_type": "markdown",
   "metadata": {},
   "source": [
    "### What is the highest level of accuracy that others have achieved with this dataset or similar problems / datasets ?\n",
    "\n",
    "#### <img src=\"chatapplication_results.jpg\">"
   ]
  },
  {
   "cell_type": "markdown",
   "metadata": {},
   "source": [
    "### What types of visualizations will help me grasp the nature of the problem data?\n",
    "\n",
    "#### This is a classic binary intent classification problem. It's quite evident that there's a sentence and a corresponding intel class. We can check if it's balanced or imbalanced classification problem by plotting a bar graph or a pie chart to check the number of sentences for each class"
   ]
  },
  {
   "cell_type": "markdown",
   "metadata": {},
   "source": [
    "### Which modeling techniques are good at capturing the types of relationships I see in this data?\n",
    "\n",
    "#### I used a couple of techniques such as Logistic Regression, SGDClassifier, K-Nearest Neighbors,  SVM,  Random Forest Model, Xtereme Gradient Boosting Model, Extra Tress Classifier. Though I have also used deep learning, but deep learning works generally well when we have a relatively huge dataset. As the dataset contained only 200 datapoints, DL may overfit the given problem. "
   ]
  },
  {
   "cell_type": "markdown",
   "metadata": {},
   "source": [
    "### Now that I have a model, how can I be sure that I didn't introduce a bug in the code? If results are too good to be true, they probably are!\n",
    "\n",
    "#### The bug can be detected by testing the model, code review, and taking advice from colleagues. If the results are too good to be true then we can thoroughly test the model with different inputs, and consider other performance metrics such as Confusion matrix Accuracy Precision Recall Specificity F1 score ROC"
   ]
  },
  {
   "cell_type": "markdown",
   "metadata": {},
   "source": [
    "### What are some of the weaknesses of the model and how can the model be improved with additional work?\n",
    "\n",
    "#### The model is as good as the dataset. The weakness in the model could be the imbalanced dataset. The model may not be robust as the dataset was smaller. Each algorithms comes with it's own weakness. The model can be improved by collecting more data, making model robust, hyperparamater tuning using GridSearch, using state-of-the art model like Semantic Hashsing for feature extraction or Flair and a lot more. "
   ]
  },
  {
   "cell_type": "markdown",
   "metadata": {},
   "source": [
    "### Can I leverage my experiments with weak results to improve overall model performance?\n",
    "\n",
    "#### Yes, there should be good balanced between the accuracy and the live model. More accuracy doesn't mean the model will perform well on the test set. So we need to find the right/good balance without overfitting and underfitting the data."
   ]
  },
  {
   "cell_type": "markdown",
   "metadata": {},
   "source": [
    "### How do I measure performance? Does it help to have confidence values against the prediction?\n",
    "\n",
    "#### Yes, It does to help to have cofidence values against the prediction. It shows how much certain the model is regarding a prediction. I've taken multiple factors while measuring the performances. "
   ]
  },
  {
   "cell_type": "markdown",
   "metadata": {},
   "source": [
    "### What are latency and compute needs for this model?\n",
    "#### The compute for ML and DL models is really low. This is because of the low training dataset given. With only around 200 datapoints in the dataset, training the model was really fast and quick even while using deep neural networks."
   ]
  },
  {
   "cell_type": "code",
   "execution_count": null,
   "metadata": {},
   "outputs": [],
   "source": []
  }
 ],
 "metadata": {
  "kernelspec": {
   "display_name": "Python 3",
   "language": "python",
   "name": "python3"
  },
  "language_info": {
   "codemirror_mode": {
    "name": "ipython",
    "version": 3
   },
   "file_extension": ".py",
   "mimetype": "text/x-python",
   "name": "python",
   "nbconvert_exporter": "python",
   "pygments_lexer": "ipython3",
   "version": "3.7.3"
  }
 },
 "nbformat": 4,
 "nbformat_minor": 2
}
